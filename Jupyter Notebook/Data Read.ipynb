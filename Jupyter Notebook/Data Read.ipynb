{
 "cells": [
  {
   "cell_type": "code",
   "execution_count": null,
   "metadata": {},
   "outputs": [],
   "source": [
    "# load dependencies\n",
    "from matplotlib import pyplot as plt\n",
    "import pandas as pd\n",
    "from sqlalchemy import create_engine\n",
    "import scipy.stats as st\n",
    "import seaborn as sns"
   ]
  },
  {
   "cell_type": "code",
   "execution_count": null,
   "metadata": {
    "scrolled": true
   },
   "outputs": [],
   "source": [
    "# read in files\n",
    "happiness_2018_index = pd.read_csv('../Data/happiness_index_2018.csv')\n",
    "alcohol_consumption = pd.read_csv('../Data/alcohol_consumption.csv')\n",
    "consumption_type = pd.read_csv('../Data/drinks_csv.csv')\n",
    "gdp = pd.read_csv('../Data/gdp.csv')\n",
    "\n",
    "# merge csv files\n",
    "df = pd.merge(happiness_2018_index, alcohol_consumption, on='Country', how='outer')\n",
    "df = pd.merge(df, consumption_type, on='Country', how='outer')\n",
    "df = pd.merge(df, gdp, on='Country', how='outer')\n",
    "\n",
    "\n",
    "# check the file has been read in\n",
    "df"
   ]
  },
  {
   "cell_type": "code",
   "execution_count": null,
   "metadata": {},
   "outputs": [],
   "source": [
    "# clean dataframe with only the relevant data\n",
    "df = df[['Country', 'Country Code_x', 'Score', '2018_y',\"Social support\", 'Healthy life expectancy', \"Freedom to make life choices\",\n",
    "         'Generosity', 'Perceptions of corruption','2018_x', 'beer_servings', 'spirit_servings', 'wine_servings']]\n",
    "\n",
    "# check dataframe for any errors\n",
    "df = df.dropna()\n",
    "\n",
    "# rename columns\n",
    "\n",
    "df =df.rename(columns={\"Country Code_x\": \"con_code\", \n",
    "                       \"2018_y\": \"GDP\", \n",
    "                       \"Social support\": \"social\",\n",
    "                       \"Healthy life expectancy\": \"life_expectancy\",\n",
    "                       \"Freedom to make life choices\": \"freedom\",\n",
    "                       'Perceptions of corruption': \"corruption\",\n",
    "                       \"2018_x\": \"alcohol_consumption\"\n",
    "                      })\n",
    "\n",
    "df"
   ]
  },
  {
   "cell_type": "code",
   "execution_count": null,
   "metadata": {},
   "outputs": [],
   "source": [
    "# data check to see if this is an interesting enough correlation to explore\n",
    "alcohol_c = df[\"alcohol_consumption\"]\n",
    "score = df['Score']\n",
    "\n",
    "# create and format plot\n",
    "plt.scatter(alcohol_c, score, marker=\"o\", facecolors=\"red\", edgecolors=\"black\")\n",
    "\n",
    "# show plot\n",
    "plt.show()\n",
    "plt.tight_layout()\n"
   ]
  },
  {
   "cell_type": "code",
   "execution_count": null,
   "metadata": {
    "scrolled": true
   },
   "outputs": [],
   "source": [
    "# calculating correlation score\n",
    "\n",
    "corr = st.pearsonr(alcohol_c,score)\n",
    "\n",
    "corr"
   ]
  },
  {
   "cell_type": "code",
   "execution_count": null,
   "metadata": {},
   "outputs": [],
   "source": [
    "df.describe()"
   ]
  },
  {
   "cell_type": "code",
   "execution_count": null,
   "metadata": {},
   "outputs": [],
   "source": [
    "happyCountries = df[(df.Score > 7)]\n",
    "\n",
    "happyCountries.describe()"
   ]
  },
  {
   "cell_type": "code",
   "execution_count": null,
   "metadata": {
    "scrolled": true
   },
   "outputs": [],
   "source": [
    "sadCountries = df[(df.Score < 4)]\n",
    "\n",
    "sadCountries.describe()"
   ]
  },
  {
   "cell_type": "markdown",
   "metadata": {},
   "source": [
    "### CREATE DATABASE CONNECTION"
   ]
  },
  {
   "cell_type": "code",
   "execution_count": null,
   "metadata": {},
   "outputs": [],
   "source": [
    "#create connection\n",
    "import psycopg2"
   ]
  },
  {
   "cell_type": "markdown",
   "metadata": {},
   "source": [
    "Load Data into Postgres"
   ]
  },
  {
   "cell_type": "code",
   "execution_count": null,
   "metadata": {},
   "outputs": [],
   "source": [
    "# create params_dic\n",
    "param_dic = {\n",
    "    \"host\"      : \"non-alcoholics.cexcs0a519gc.us-west-1.rds.amazonaws.com\",\n",
    "    \"database\"  : \"non-alcoholics\",\n",
    "    \"user\"      : \"postgres\",\n",
    "    \"password\"  : \"postgres\"\n",
    "}"
   ]
  },
  {
   "cell_type": "code",
   "execution_count": null,
   "metadata": {},
   "outputs": [],
   "source": [
    "# set up connection\n",
    "connect = \"postgresql+psycopg2://%s:%s@%s:5432/%s\"%(\n",
    "    param_dic['user'],\n",
    "    param_dic['password'],\n",
    "    param_dic['host'],\n",
    "    param_dic['database']\n",
    ")\n",
    "\n",
    "engine = create_engine(connect)"
   ]
  },
  {
   "cell_type": "code",
   "execution_count": null,
   "metadata": {},
   "outputs": [],
   "source": [
    "conn = engine.connect()\n",
    "\n",
    "results = conn.execute('Select * from df')\n"
   ]
  },
  {
   "cell_type": "code",
   "execution_count": null,
   "metadata": {},
   "outputs": [],
   "source": [
    "all_countries = []\n",
    " \n",
    "for country, con_code, score, gdp, social, health, freedom, generosity, corruption, alcohol, beer_servings, wine_servings, spirit_servings in results:\n",
    "    print(country)\n",
    "    countries_dict = {}\n",
    "    countries_dict[\"Country\"] = country\n",
    "    countries_dict[\"Country Code\"] = con_code\n",
    "    countries_dict[\"Score\"] = score\n",
    "    countries_dict[\"GDP per capita\"] = gdp\n",
    "    countries_dict[\"Social support\"] = social\n",
    "    countries_dict[\"Health life expectancy\"] = health\n",
    "    countries_dict[\"Freedom to make life choices\"] = freedom\n",
    "    countries_dict[\"Generosity\"] = generosity\n",
    "    countries_dict[\"Perceptions of corruption\"] = corruption\n",
    "    countries_dict[\"Alcohol Consumption per Capita (liter)\"] = alcohol\n",
    "    countries_dict[\"beer_servings\"] = beer_servings\n",
    "    countries_dict[\"wine_servings\"] = wine_servings\n",
    "    countries_dict[\"spirit_servings\"] = beer_servings\n",
    "    all_countries.append(countries_dict)\n",
    "\n",
    "\n",
    "\n",
    "print(all_countries)"
   ]
  },
  {
   "cell_type": "code",
   "execution_count": null,
   "metadata": {},
   "outputs": [],
   "source": [
    "def to_alchemy(df):\n",
    "    \"\"\"\n",
    "    Reading table into postgres\n",
    "    \"\"\"\n",
    "df.to_sql(\n",
    "        'df', \n",
    "        con=engine, \n",
    "        index=False, \n",
    "        if_exists='replace'\n",
    "    )\n",
    "print(\"to_sql() done (sqlalchemy)\")"
   ]
  },
  {
   "cell_type": "code",
   "execution_count": null,
   "metadata": {},
   "outputs": [],
   "source": [
    "df.head()"
   ]
  },
  {
   "cell_type": "code",
   "execution_count": null,
   "metadata": {},
   "outputs": [],
   "source": []
  }
 ],
 "metadata": {
  "kernelspec": {
   "display_name": "Python 3",
   "language": "python",
   "name": "python3"
  },
  "language_info": {
   "codemirror_mode": {
    "name": "ipython",
    "version": 3
   },
   "file_extension": ".py",
   "mimetype": "text/x-python",
   "name": "python",
   "nbconvert_exporter": "python",
   "pygments_lexer": "ipython3",
   "version": "3.8.5"
  }
 },
 "nbformat": 4,
 "nbformat_minor": 4
}
