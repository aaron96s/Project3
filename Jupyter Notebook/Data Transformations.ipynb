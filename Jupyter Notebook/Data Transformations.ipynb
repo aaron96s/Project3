{
 "cells": [
  {
   "cell_type": "code",
   "execution_count": 1,
   "metadata": {},
   "outputs": [],
   "source": [
    "import pandas as pd"
   ]
  },
  {
   "cell_type": "code",
   "execution_count": 3,
   "metadata": {},
   "outputs": [],
   "source": [
    "df = pd.read_csv(\"../data/df.csv\")"
   ]
  },
  {
   "cell_type": "code",
   "execution_count": 4,
   "metadata": {},
   "outputs": [
    {
     "data": {
      "text/plain": [
       "<bound method NDFrame.head of                       Country Country Code  Score  GDP per capita  \\\n",
       "0                     Finland          FIN  7.632           1.305   \n",
       "1                      Norway          NOR  7.594           1.456   \n",
       "2                     Denmark          DNK  7.555           1.351   \n",
       "3                     Iceland          ISL  7.495           1.343   \n",
       "4                 Switzerland          CHE  7.487           1.420   \n",
       "..                        ...          ...    ...             ...   \n",
       "129                   Liberia          LBR  3.495           0.076   \n",
       "130                    Rwanda          RWA  3.408           0.332   \n",
       "131                  Tanzania          TZA  3.303           0.455   \n",
       "132  Central African Republic          CAF  3.083           0.024   \n",
       "133                   Burundi          BDI  2.905           0.091   \n",
       "\n",
       "     Social support  Healthy life expectancy  Freedom to make life choices  \\\n",
       "0             1.592                    0.874                         0.681   \n",
       "1             1.582                    0.861                         0.686   \n",
       "2             1.590                    0.868                         0.683   \n",
       "3             1.644                    0.914                         0.677   \n",
       "4             1.549                    0.927                         0.660   \n",
       "..              ...                      ...                           ...   \n",
       "129           0.858                    0.267                         0.419   \n",
       "130           0.896                    0.400                         0.636   \n",
       "131           0.991                    0.381                         0.481   \n",
       "132           0.000                    0.010                         0.305   \n",
       "133           0.627                    0.145                         0.065   \n",
       "\n",
       "     Generosity  Perceptions of corruption  \\\n",
       "0         0.202                      0.393   \n",
       "1         0.286                      0.340   \n",
       "2         0.284                      0.408   \n",
       "3         0.353                      0.138   \n",
       "4         0.256                      0.357   \n",
       "..          ...                        ...   \n",
       "129       0.206                      0.030   \n",
       "130       0.200                      0.444   \n",
       "131       0.270                      0.097   \n",
       "132       0.218                      0.038   \n",
       "133       0.149                      0.076   \n",
       "\n",
       "     Alcohol Consumption per Capita (liter)  \n",
       "0                                     10.78  \n",
       "1                                      7.41  \n",
       "2                                     10.26  \n",
       "3                                      9.12  \n",
       "4                                     11.53  \n",
       "..                                      ...  \n",
       "129                                    6.12  \n",
       "130                                    8.95  \n",
       "131                                   11.27  \n",
       "132                                    2.38  \n",
       "133                                    7.19  \n",
       "\n",
       "[134 rows x 10 columns]>"
      ]
     },
     "execution_count": 4,
     "metadata": {},
     "output_type": "execute_result"
    }
   ],
   "source": [
    "df.head"
   ]
  },
  {
   "cell_type": "code",
   "execution_count": 9,
   "metadata": {},
   "outputs": [],
   "source": [
    "\n",
    "df.loc[df['Score'] <= 5.41, 'equal_or_lower_than_5.41?'] = 'True' \n",
    "df.loc[df['Score'] > 5.41, 'equal_or_lower_than_5.41?'] = 'False' "
   ]
  },
  {
   "cell_type": "code",
   "execution_count": 11,
   "metadata": {},
   "outputs": [],
   "source": [
    "df.to_csv('TFs.csv')"
   ]
  },
  {
   "cell_type": "code",
   "execution_count": null,
   "metadata": {},
   "outputs": [],
   "source": []
  }
 ],
 "metadata": {
  "kernelspec": {
   "display_name": "Python 3",
   "language": "python",
   "name": "python3"
  },
  "language_info": {
   "codemirror_mode": {
    "name": "ipython",
    "version": 3
   },
   "file_extension": ".py",
   "mimetype": "text/x-python",
   "name": "python",
   "nbconvert_exporter": "python",
   "pygments_lexer": "ipython3",
   "version": "3.8.5"
  }
 },
 "nbformat": 4,
 "nbformat_minor": 4
}
