{
 "cells": [
  {
   "cell_type": "code",
   "execution_count": 1,
   "metadata": {},
   "outputs": [],
   "source": [
    "import pandas as pd"
   ]
  },
  {
   "cell_type": "code",
   "execution_count": 2,
   "metadata": {},
   "outputs": [],
   "source": [
    "df = pd.read_csv(\"../data/df.csv\")"
   ]
  },
  {
   "cell_type": "code",
   "execution_count": 3,
   "metadata": {},
   "outputs": [
    {
     "data": {
      "text/plain": [
       "<bound method NDFrame.head of                       Country con_code  Score           GDP  social  \\\n",
       "0                     Finland      FIN  7.632  50030.877310   1.592   \n",
       "1                      Norway      NOR  7.594  81734.465570   1.582   \n",
       "2                     Denmark      DNK  7.555  61598.536700   1.590   \n",
       "3                     Iceland      ISL  7.495  72968.704230   1.644   \n",
       "4                 Switzerland      CHE  7.487  82818.108160   1.549   \n",
       "..                        ...      ...    ...           ...     ...   \n",
       "126                   Liberia      LBR  3.495    677.322179   0.858   \n",
       "127                    Rwanda      RWA  3.408    783.287184   0.896   \n",
       "128                  Tanzania      TZA  3.303   1060.994615   0.991   \n",
       "129  Central African Republic      CAF  3.083    475.953610   0.000   \n",
       "130                   Burundi      BDI  2.905    271.752044   0.627   \n",
       "\n",
       "     life_expectancy  freedom  Generosity  corruption  alcohol_consumption  \\\n",
       "0              0.874    0.681       0.202       0.393                10.78   \n",
       "1              0.861    0.686       0.286       0.340                 7.41   \n",
       "2              0.868    0.683       0.284       0.408                10.26   \n",
       "3              0.914    0.677       0.353       0.138                 9.12   \n",
       "4              0.927    0.660       0.256       0.357                11.53   \n",
       "..               ...      ...         ...         ...                  ...   \n",
       "126            0.267    0.419       0.206       0.030                 6.12   \n",
       "127            0.400    0.636       0.200       0.444                 8.95   \n",
       "128            0.381    0.481       0.270       0.097                11.27   \n",
       "129            0.010    0.305       0.218       0.038                 2.38   \n",
       "130            0.145    0.065       0.149       0.076                 7.19   \n",
       "\n",
       "     beer_servings  spirit_servings  wine_servings  \n",
       "0              263              133             97  \n",
       "1              169               71            129  \n",
       "2              224               81            278  \n",
       "3              233               61             78  \n",
       "4              185              100            280  \n",
       "..             ...              ...            ...  \n",
       "126             19              152              2  \n",
       "127             43                2              0  \n",
       "128             36                6              1  \n",
       "129             17                2              1  \n",
       "130             88                0              0  \n",
       "\n",
       "[131 rows x 13 columns]>"
      ]
     },
     "execution_count": 3,
     "metadata": {},
     "output_type": "execute_result"
    }
   ],
   "source": [
    "df.head"
   ]
  },
  {
   "cell_type": "code",
   "execution_count": 4,
   "metadata": {},
   "outputs": [],
   "source": [
    "\n",
    "df.loc[df['Score'] <= 5.41, 'equal_or_greater_than_5.41?'] = 'False' \n",
    "df.loc[df['Score'] > 5.41, 'equal_or_greater_than_5.41?'] = 'True' "
   ]
  },
  {
   "cell_type": "code",
   "execution_count": 5,
   "metadata": {},
   "outputs": [],
   "source": [
    "df.to_csv('CorrectTFS.csv')"
   ]
  },
  {
   "cell_type": "code",
   "execution_count": 8,
   "metadata": {},
   "outputs": [
    {
     "data": {
      "text/plain": [
       "0      50030.877310\n",
       "1      81734.465570\n",
       "2      61598.536700\n",
       "3      72968.704230\n",
       "4      82818.108160\n",
       "           ...     \n",
       "126      677.322179\n",
       "127      783.287184\n",
       "128     1060.994615\n",
       "129      475.953610\n",
       "130      271.752044\n",
       "Name: GDP, Length: 131, dtype: float64"
      ]
     },
     "execution_count": 8,
     "metadata": {},
     "output_type": "execute_result"
    }
   ],
   "source": [
    "df['GDP']"
   ]
  },
  {
   "cell_type": "code",
   "execution_count": null,
   "metadata": {},
   "outputs": [],
   "source": []
  }
 ],
 "metadata": {
  "kernelspec": {
   "display_name": "Python 3",
   "language": "python",
   "name": "python3"
  },
  "language_info": {
   "codemirror_mode": {
    "name": "ipython",
    "version": 3
   },
   "file_extension": ".py",
   "mimetype": "text/x-python",
   "name": "python",
   "nbconvert_exporter": "python",
   "pygments_lexer": "ipython3",
   "version": "3.8.3"
  }
 },
 "nbformat": 4,
 "nbformat_minor": 4
}
